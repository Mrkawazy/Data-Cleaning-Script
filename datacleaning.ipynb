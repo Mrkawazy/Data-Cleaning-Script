{
 "cells": [
  {
   "cell_type": "code",
   "execution_count": 2,
   "id": "32ce4474",
   "metadata": {},
   "outputs": [
    {
     "name": "stderr",
     "output_type": "stream",
     "text": [
      "<ipython-input-2-81beaa1f6836>:27: SettingWithCopyWarning: \n",
      "A value is trying to be set on a copy of a slice from a DataFrame.\n",
      "Try using .loc[row_indexer,col_indexer] = value instead\n",
      "\n",
      "See the caveats in the documentation: https://pandas.pydata.org/pandas-docs/stable/user_guide/indexing.html#returning-a-view-versus-a-copy\n",
      "  fdf['Province'] = fdf['Province'].str[3:]\n",
      "<ipython-input-2-81beaa1f6836>:28: SettingWithCopyWarning: \n",
      "A value is trying to be set on a copy of a slice from a DataFrame.\n",
      "Try using .loc[row_indexer,col_indexer] = value instead\n",
      "\n",
      "See the caveats in the documentation: https://pandas.pydata.org/pandas-docs/stable/user_guide/indexing.html#returning-a-view-versus-a-copy\n",
      "  fdf['District'] = fdf['District'].str[3:]\n",
      "<ipython-input-2-81beaa1f6836>:29: SettingWithCopyWarning: \n",
      "A value is trying to be set on a copy of a slice from a DataFrame.\n",
      "Try using .loc[row_indexer,col_indexer] = value instead\n",
      "\n",
      "See the caveats in the documentation: https://pandas.pydata.org/pandas-docs/stable/user_guide/indexing.html#returning-a-view-versus-a-copy\n",
      "  fdf['Health Facility'] = fdf['Health Facility'].str[3:]\n",
      "<ipython-input-2-81beaa1f6836>:32: SettingWithCopyWarning: \n",
      "A value is trying to be set on a copy of a slice from a DataFrame.\n",
      "Try using .loc[row_indexer,col_indexer] = value instead\n",
      "\n",
      "See the caveats in the documentation: https://pandas.pydata.org/pandas-docs/stable/user_guide/indexing.html#returning-a-view-versus-a-copy\n",
      "  fdf['Province'] = fdf['Province'].str[:-9]\n",
      "<ipython-input-2-81beaa1f6836>:35: SettingWithCopyWarning: \n",
      "A value is trying to be set on a copy of a slice from a DataFrame.\n",
      "Try using .loc[row_indexer,col_indexer] = value instead\n",
      "\n",
      "See the caveats in the documentation: https://pandas.pydata.org/pandas-docs/stable/user_guide/indexing.html#returning-a-view-versus-a-copy\n",
      "  fdf['District'] = fdf['District'].str[:-9]\n"
     ]
    },
    {
     "name": "stdout",
     "output_type": "stream",
     "text": [
      "****************** Done Mr Kawanzaruwa ********************\n"
     ]
    }
   ],
   "source": [
    "#coding to trime document\n",
    "import pandas as pd\n",
    "\n",
    "#loading the file to our program \n",
    "cases=pd.read_excel('Cases - 2022-09-11(1).xlsx')\n",
    "\n",
    "#putting our data into rows and columns\n",
    "df=pd.DataFrame(cases)\n",
    "\n",
    "#trimming other unwanted columns \n",
    "df1 = df.filter([\n",
    "    'Date of reporting',\n",
    "    'Gender','Occupation','Age Age / Years','Age Age / Months',\n",
    "    'Classification','Date of onset','Addresses Location [1] Location Geographical Level [2]','Addresses Location [1] Location Geographical Level [3]','Addresses Location [1] Location Geographical Level [4]'])\n",
    "\n",
    "#renaming columns\n",
    "df1.columns=['Date of reporting','Gender','Occupation',\n",
    "             'Age -Years','Age -Months','Classification','Date of onset','Province','District','Health Facility']\n",
    "\n",
    "# filtering based on the below options\n",
    "options = ['ms Matabeleland South Province', 'mn Matabeleland North Province','mi Midlands Province'] \n",
    "    \n",
    "# selecting rows based on condition->options\n",
    "fdf = df1[df1['Province'].isin(options)] \n",
    "\n",
    "# cleaning -> removing the province prefix which has 2 characters plus a whitespace so we are removing first 3 characters\n",
    "fdf['Province'] = fdf['Province'].str[3:]\n",
    "fdf['District'] = fdf['District'].str[3:]\n",
    "fdf['Health Facility'] = fdf['Health Facility'].str[3:]\n",
    "\n",
    "#remove the trailing label for province which is 8 character plus space making it 9 characters \n",
    "fdf['Province'] = fdf['Province'].str[:-9]\n",
    "\n",
    "#removing the trailing label of a district which is 8 plus space making it 9 characters\n",
    "fdf['District'] = fdf['District'].str[:-9]\n",
    "\n",
    "\n",
    "#exporting my final finished document\n",
    "fdf.to_excel('Cases - 2022-09-11.xlsx')\n",
    "\n",
    "print('****************** Done Mr Kawanzaruwa ********************')"
   ]
  },
  {
   "cell_type": "code",
   "execution_count": null,
   "id": "daf4f143",
   "metadata": {},
   "outputs": [],
   "source": []
  }
 ],
 "metadata": {
  "kernelspec": {
   "display_name": "Python 3",
   "language": "python",
   "name": "python3"
  },
  "language_info": {
   "codemirror_mode": {
    "name": "ipython",
    "version": 3
   },
   "file_extension": ".py",
   "mimetype": "text/x-python",
   "name": "python",
   "nbconvert_exporter": "python",
   "pygments_lexer": "ipython3",
   "version": "3.8.8"
  }
 },
 "nbformat": 4,
 "nbformat_minor": 5
}
